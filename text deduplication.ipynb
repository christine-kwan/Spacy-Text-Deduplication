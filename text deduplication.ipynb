{
 "cells": [
  {
   "cell_type": "code",
   "execution_count": null,
   "metadata": {},
   "outputs": [],
   "source": [
    "import pandas as pd\n",
    "import spacy\n",
    "nlp = spacy.blank('en')\n",
    "nlp = spacy.load('en_core_web_lg')"
   ]
  },
  {
   "cell_type": "code",
   "execution_count": null,
   "metadata": {},
   "outputs": [],
   "source": [
    "filename = r'knowledge_uncleaned.csv'\n",
    "df = pd.read_csv(filename)\n",
    "all_text = list(df['knowledge']) # taking the column with knowledge text"
   ]
  },
  {
   "cell_type": "code",
   "execution_count": null,
   "metadata": {},
   "outputs": [],
   "source": [
    "def most_similar(all_text, threshold):\n",
    "    \n",
    "    # initializing dict with indexing because file is too big, remove iloc if not needed\n",
    "    d = {key:'' for key in all_text[0:200]}\n",
    "    max_loops = len(d)\n",
    "    curr_loop = 0\n",
    "\n",
    "    # finding similarity based on whichever is reached first, threshold or max_loops\n",
    "    for key in d:\n",
    "        \n",
    "        if key in d.values():\n",
    "            d[key] = 'found'\n",
    "\n",
    "        else:\n",
    "            for sentence in all_text:\n",
    "                if key != sentence:\n",
    "                    first = nlp(key)\n",
    "                    second = nlp(sentence)\n",
    "                    sim_index = first.similarity(second)\n",
    "                    curr_loop += 1\n",
    "                    print(key, sim_index, sentence) # see progress, comment out if uncessary\n",
    "\n",
    "                    if sim_index > threshold:\n",
    "                        d[key] = (sentence, sim_index)\n",
    "                        break\n",
    "\n",
    "                    # stops finding for a match if all of the comparison results < threshold\n",
    "                    elif curr_loop == max_loops:\n",
    "                        break\n",
    "                        \n",
    "\n",
    "    return d"
   ]
  },
  {
   "cell_type": "code",
   "execution_count": null,
   "metadata": {},
   "outputs": [],
   "source": [
    "# enter threshold value\n",
    "threshold_val = 0.9\n",
    "batch = most_similar(all_text, threshold_val)\n",
    "output_df = pd.DataFrame(batch)\n",
    "output_df = output_df.transpose()"
   ]
  },
  {
   "cell_type": "code",
   "execution_count": null,
   "metadata": {},
   "outputs": [],
   "source": [
    "output_df.columns = ['similar sentence', 'similarity index']\n",
    "output_df.to_csv('dupes.csv') # name of file containing results"
   ]
  }
 ],
 "metadata": {
  "kernelspec": {
   "display_name": "Python 3.8.3 ('base')",
   "language": "python",
   "name": "python3"
  },
  "language_info": {
   "codemirror_mode": {
    "name": "ipython",
    "version": 3
   },
   "file_extension": ".py",
   "mimetype": "text/x-python",
   "name": "python",
   "nbconvert_exporter": "python",
   "pygments_lexer": "ipython3",
   "version": "3.8.3"
  },
  "vscode": {
   "interpreter": {
    "hash": "8901fe019d600225f890108c4f0b7852487890258363523329abcb6ca46999d1"
   }
  }
 },
 "nbformat": 4,
 "nbformat_minor": 4
}
